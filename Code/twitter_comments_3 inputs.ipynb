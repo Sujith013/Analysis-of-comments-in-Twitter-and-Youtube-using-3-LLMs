{
  "cells": [
    {
      "cell_type": "markdown",
      "metadata": {
        "id": "r5AJoLlo6NZj"
      },
      "source": [
        "## **Mount Drive**"
      ]
    },
    {
      "cell_type": "code",
      "execution_count": 3,
      "metadata": {
        "colab": {
          "base_uri": "https://localhost:8080/"
        },
        "id": "8l6WwV1t9035",
        "outputId": "6198674a-252b-44bf-8fa2-d6ab59542078"
      },
      "outputs": [
        {
          "output_type": "stream",
          "name": "stdout",
          "text": [
            "Mounted at /content/gdrive\n"
          ]
        }
      ],
      "source": [
        "from google.colab import drive\n",
        "drive.mount(\"/content/gdrive\")"
      ]
    },
    {
      "cell_type": "code",
      "execution_count": 4,
      "metadata": {
        "colab": {
          "base_uri": "https://localhost:8080/"
        },
        "id": "il4-VMDu95us",
        "outputId": "3a8b0ad9-e5b8-407a-f1ff-2e43feaebb3f"
      },
      "outputs": [
        {
          "output_type": "stream",
          "name": "stdout",
          "text": [
            "/content/gdrive/MyDrive/VIT/Tamil Argumentation\n"
          ]
        }
      ],
      "source": [
        "cd /content/gdrive/MyDrive/VIT/Tamil Argumentation"
      ]
    },
    {
      "cell_type": "markdown",
      "metadata": {
        "id": "63sNjHElymhE"
      },
      "source": [
        "## **Install**"
      ]
    },
    {
      "cell_type": "code",
      "execution_count": 85,
      "metadata": {
        "colab": {
          "base_uri": "https://localhost:8080/"
        },
        "id": "Xu_-vqPjyka6",
        "outputId": "5f4b7186-f3e1-4dea-c665-3c9256c01078"
      },
      "outputs": [
        {
          "output_type": "stream",
          "name": "stdout",
          "text": [
            "Requirement already satisfied: transformers in /usr/local/lib/python3.10/dist-packages (4.33.2)\n",
            "Requirement already satisfied: nltk in /usr/local/lib/python3.10/dist-packages (3.8.1)\n",
            "Requirement already satisfied: filelock in /usr/local/lib/python3.10/dist-packages (from transformers) (3.12.2)\n",
            "Requirement already satisfied: huggingface-hub<1.0,>=0.15.1 in /usr/local/lib/python3.10/dist-packages (from transformers) (0.17.2)\n",
            "Requirement already satisfied: numpy>=1.17 in /usr/local/lib/python3.10/dist-packages (from transformers) (1.23.5)\n",
            "Requirement already satisfied: packaging>=20.0 in /usr/local/lib/python3.10/dist-packages (from transformers) (23.1)\n",
            "Requirement already satisfied: pyyaml>=5.1 in /usr/local/lib/python3.10/dist-packages (from transformers) (6.0.1)\n",
            "Requirement already satisfied: regex!=2019.12.17 in /usr/local/lib/python3.10/dist-packages (from transformers) (2023.6.3)\n",
            "Requirement already satisfied: requests in /usr/local/lib/python3.10/dist-packages (from transformers) (2.31.0)\n",
            "Requirement already satisfied: tokenizers!=0.11.3,<0.14,>=0.11.1 in /usr/local/lib/python3.10/dist-packages (from transformers) (0.13.3)\n",
            "Requirement already satisfied: safetensors>=0.3.1 in /usr/local/lib/python3.10/dist-packages (from transformers) (0.3.3)\n",
            "Requirement already satisfied: tqdm>=4.27 in /usr/local/lib/python3.10/dist-packages (from transformers) (4.66.1)\n",
            "Requirement already satisfied: click in /usr/local/lib/python3.10/dist-packages (from nltk) (8.1.7)\n",
            "Requirement already satisfied: joblib in /usr/local/lib/python3.10/dist-packages (from nltk) (1.3.2)\n",
            "Requirement already satisfied: fsspec in /usr/local/lib/python3.10/dist-packages (from huggingface-hub<1.0,>=0.15.1->transformers) (2023.6.0)\n",
            "Requirement already satisfied: typing-extensions>=3.7.4.3 in /usr/local/lib/python3.10/dist-packages (from huggingface-hub<1.0,>=0.15.1->transformers) (4.5.0)\n",
            "Requirement already satisfied: charset-normalizer<4,>=2 in /usr/local/lib/python3.10/dist-packages (from requests->transformers) (3.2.0)\n",
            "Requirement already satisfied: idna<4,>=2.5 in /usr/local/lib/python3.10/dist-packages (from requests->transformers) (3.4)\n",
            "Requirement already satisfied: urllib3<3,>=1.21.1 in /usr/local/lib/python3.10/dist-packages (from requests->transformers) (2.0.4)\n",
            "Requirement already satisfied: certifi>=2017.4.17 in /usr/local/lib/python3.10/dist-packages (from requests->transformers) (2023.7.22)\n"
          ]
        }
      ],
      "source": [
        "pip install transformers nltk"
      ]
    },
    {
      "cell_type": "code",
      "source": [
        "import nltk\n",
        "nltk.download('punkt')"
      ],
      "metadata": {
        "colab": {
          "base_uri": "https://localhost:8080/"
        },
        "id": "wGjUy9PGqeWF",
        "outputId": "db44cc03-e8f6-47a8-c0e0-a0690c1c0ac8"
      },
      "execution_count": 86,
      "outputs": [
        {
          "output_type": "stream",
          "name": "stderr",
          "text": [
            "[nltk_data] Downloading package punkt to /root/nltk_data...\n",
            "[nltk_data]   Unzipping tokenizers/punkt.zip.\n"
          ]
        },
        {
          "output_type": "execute_result",
          "data": {
            "text/plain": [
              "True"
            ]
          },
          "metadata": {},
          "execution_count": 86
        }
      ]
    },
    {
      "cell_type": "markdown",
      "metadata": {
        "id": "qoq5Luuf6NZn"
      },
      "source": [
        "## **Import Libraries**"
      ]
    },
    {
      "cell_type": "code",
      "execution_count": 87,
      "metadata": {
        "id": "HjHmpt1l6NZn"
      },
      "outputs": [],
      "source": [
        "import pandas as pd\n",
        "import numpy as np\n",
        "\n",
        "from tqdm import tqdm\n",
        "\n",
        "from copy import deepcopy\n",
        "\n",
        "from sklearn import metrics\n",
        "from sklearn.model_selection import KFold\n",
        "\n",
        "import torch\n",
        "from torch import nn\n",
        "from torch.utils.data import Dataset, DataLoader\n",
        "\n",
        "from transformers import AutoTokenizer,AutoModel,BertTokenizer\n",
        "\n",
        "from nltk.tokenize import word_tokenize"
      ]
    },
    {
      "cell_type": "markdown",
      "metadata": {
        "id": "LMcPIHwh6NZp"
      },
      "source": [
        "## **Import Dataset**"
      ]
    },
    {
      "cell_type": "code",
      "execution_count": 7,
      "metadata": {
        "id": "GShbZKDt6NZp"
      },
      "outputs": [],
      "source": [
        "df = pd.read_excel(\"/content/gdrive/MyDrive/VIT/Tamil Argumentation/Twitter Comment Dataset.xlsx\")"
      ]
    },
    {
      "cell_type": "code",
      "execution_count": 8,
      "metadata": {
        "colab": {
          "base_uri": "https://localhost:8080/",
          "height": 397
        },
        "id": "ZcfEasZ36NZq",
        "outputId": "d06bc78a-bb93-474c-aa64-8ccc2bbf8716"
      },
      "outputs": [
        {
          "output_type": "execute_result",
          "data": {
            "text/plain": [
              "   S No                                              Tweet Date of Tweet  \\\n",
              "0     1  Bro imagine today is Friday , big star movie i...    2018-05-22   \n",
              "1     2  Dei unnoda akkarai TN mela not on others and w...    2018-05-22   \n",
              "2     3  En ninga ivara matum mention panuringa naraiya...    2018-05-22   \n",
              "3     4  What is happening in Thoothukudi is totally no...    2018-05-22   \n",
              "4     5  Ungaluku Sterlite protest prachanaya illa Bala...    2018-05-22   \n",
              "\n",
              "       Topic                                       Parent Tweet    Language  \\\n",
              "0  Jalikattu  And tamil people, jalikattu maadu for money an...     ENGLISH   \n",
              "1  Jalikattu  And tamil people, jalikattu maadu for money an...     ENGLISH   \n",
              "2  Jalikattu  And tamil people, jalikattu maadu for money an...  CODE-MIXED   \n",
              "3  Jalikattu  And tamil people, jalikattu maadu for money an...     ENGLISH   \n",
              "4  Jalikattu  And tamil people, jalikattu maadu for money an...  CODE-MIXED   \n",
              "\n",
              "  Quality        Stance  Argument  Comment  Responding to Tone  \\\n",
              "0     Med  Undetermined         0        1                   0   \n",
              "1     Med       Against         0        1                   0   \n",
              "2     Med           For         0        1                   0   \n",
              "3    High       Against         1        1                   0   \n",
              "4     Med  Undetermined         0        0                   1   \n",
              "\n",
              "   Discussing Writer Characteristics  Remark Relevancy  \n",
              "0                                  0       0  Relevant  \n",
              "1                                  1       0  Relevant  \n",
              "2                                  0       0  Relevant  \n",
              "3                                  0       0  Relevant  \n",
              "4                                  0       0  Relevant  "
            ],
            "text/html": [
              "\n",
              "  <div id=\"df-f740d673-14b2-46aa-b80a-bce73997e11c\" class=\"colab-df-container\">\n",
              "    <div>\n",
              "<style scoped>\n",
              "    .dataframe tbody tr th:only-of-type {\n",
              "        vertical-align: middle;\n",
              "    }\n",
              "\n",
              "    .dataframe tbody tr th {\n",
              "        vertical-align: top;\n",
              "    }\n",
              "\n",
              "    .dataframe thead th {\n",
              "        text-align: right;\n",
              "    }\n",
              "</style>\n",
              "<table border=\"1\" class=\"dataframe\">\n",
              "  <thead>\n",
              "    <tr style=\"text-align: right;\">\n",
              "      <th></th>\n",
              "      <th>S No</th>\n",
              "      <th>Tweet</th>\n",
              "      <th>Date of Tweet</th>\n",
              "      <th>Topic</th>\n",
              "      <th>Parent Tweet</th>\n",
              "      <th>Language</th>\n",
              "      <th>Quality</th>\n",
              "      <th>Stance</th>\n",
              "      <th>Argument</th>\n",
              "      <th>Comment</th>\n",
              "      <th>Responding to Tone</th>\n",
              "      <th>Discussing Writer Characteristics</th>\n",
              "      <th>Remark</th>\n",
              "      <th>Relevancy</th>\n",
              "    </tr>\n",
              "  </thead>\n",
              "  <tbody>\n",
              "    <tr>\n",
              "      <th>0</th>\n",
              "      <td>1</td>\n",
              "      <td>Bro imagine today is Friday , big star movie i...</td>\n",
              "      <td>2018-05-22</td>\n",
              "      <td>Jalikattu</td>\n",
              "      <td>And tamil people, jalikattu maadu for money an...</td>\n",
              "      <td>ENGLISH</td>\n",
              "      <td>Med</td>\n",
              "      <td>Undetermined</td>\n",
              "      <td>0</td>\n",
              "      <td>1</td>\n",
              "      <td>0</td>\n",
              "      <td>0</td>\n",
              "      <td>0</td>\n",
              "      <td>Relevant</td>\n",
              "    </tr>\n",
              "    <tr>\n",
              "      <th>1</th>\n",
              "      <td>2</td>\n",
              "      <td>Dei unnoda akkarai TN mela not on others and w...</td>\n",
              "      <td>2018-05-22</td>\n",
              "      <td>Jalikattu</td>\n",
              "      <td>And tamil people, jalikattu maadu for money an...</td>\n",
              "      <td>ENGLISH</td>\n",
              "      <td>Med</td>\n",
              "      <td>Against</td>\n",
              "      <td>0</td>\n",
              "      <td>1</td>\n",
              "      <td>0</td>\n",
              "      <td>1</td>\n",
              "      <td>0</td>\n",
              "      <td>Relevant</td>\n",
              "    </tr>\n",
              "    <tr>\n",
              "      <th>2</th>\n",
              "      <td>3</td>\n",
              "      <td>En ninga ivara matum mention panuringa naraiya...</td>\n",
              "      <td>2018-05-22</td>\n",
              "      <td>Jalikattu</td>\n",
              "      <td>And tamil people, jalikattu maadu for money an...</td>\n",
              "      <td>CODE-MIXED</td>\n",
              "      <td>Med</td>\n",
              "      <td>For</td>\n",
              "      <td>0</td>\n",
              "      <td>1</td>\n",
              "      <td>0</td>\n",
              "      <td>0</td>\n",
              "      <td>0</td>\n",
              "      <td>Relevant</td>\n",
              "    </tr>\n",
              "    <tr>\n",
              "      <th>3</th>\n",
              "      <td>4</td>\n",
              "      <td>What is happening in Thoothukudi is totally no...</td>\n",
              "      <td>2018-05-22</td>\n",
              "      <td>Jalikattu</td>\n",
              "      <td>And tamil people, jalikattu maadu for money an...</td>\n",
              "      <td>ENGLISH</td>\n",
              "      <td>High</td>\n",
              "      <td>Against</td>\n",
              "      <td>1</td>\n",
              "      <td>1</td>\n",
              "      <td>0</td>\n",
              "      <td>0</td>\n",
              "      <td>0</td>\n",
              "      <td>Relevant</td>\n",
              "    </tr>\n",
              "    <tr>\n",
              "      <th>4</th>\n",
              "      <td>5</td>\n",
              "      <td>Ungaluku Sterlite protest prachanaya illa Bala...</td>\n",
              "      <td>2018-05-22</td>\n",
              "      <td>Jalikattu</td>\n",
              "      <td>And tamil people, jalikattu maadu for money an...</td>\n",
              "      <td>CODE-MIXED</td>\n",
              "      <td>Med</td>\n",
              "      <td>Undetermined</td>\n",
              "      <td>0</td>\n",
              "      <td>0</td>\n",
              "      <td>1</td>\n",
              "      <td>0</td>\n",
              "      <td>0</td>\n",
              "      <td>Relevant</td>\n",
              "    </tr>\n",
              "  </tbody>\n",
              "</table>\n",
              "</div>\n",
              "    <div class=\"colab-df-buttons\">\n",
              "\n",
              "  <div class=\"colab-df-container\">\n",
              "    <button class=\"colab-df-convert\" onclick=\"convertToInteractive('df-f740d673-14b2-46aa-b80a-bce73997e11c')\"\n",
              "            title=\"Convert this dataframe to an interactive table.\"\n",
              "            style=\"display:none;\">\n",
              "\n",
              "  <svg xmlns=\"http://www.w3.org/2000/svg\" height=\"24px\" viewBox=\"0 -960 960 960\">\n",
              "    <path d=\"M120-120v-720h720v720H120Zm60-500h600v-160H180v160Zm220 220h160v-160H400v160Zm0 220h160v-160H400v160ZM180-400h160v-160H180v160Zm440 0h160v-160H620v160ZM180-180h160v-160H180v160Zm440 0h160v-160H620v160Z\"/>\n",
              "  </svg>\n",
              "    </button>\n",
              "\n",
              "  <style>\n",
              "    .colab-df-container {\n",
              "      display:flex;\n",
              "      gap: 12px;\n",
              "    }\n",
              "\n",
              "    .colab-df-convert {\n",
              "      background-color: #E8F0FE;\n",
              "      border: none;\n",
              "      border-radius: 50%;\n",
              "      cursor: pointer;\n",
              "      display: none;\n",
              "      fill: #1967D2;\n",
              "      height: 32px;\n",
              "      padding: 0 0 0 0;\n",
              "      width: 32px;\n",
              "    }\n",
              "\n",
              "    .colab-df-convert:hover {\n",
              "      background-color: #E2EBFA;\n",
              "      box-shadow: 0px 1px 2px rgba(60, 64, 67, 0.3), 0px 1px 3px 1px rgba(60, 64, 67, 0.15);\n",
              "      fill: #174EA6;\n",
              "    }\n",
              "\n",
              "    .colab-df-buttons div {\n",
              "      margin-bottom: 4px;\n",
              "    }\n",
              "\n",
              "    [theme=dark] .colab-df-convert {\n",
              "      background-color: #3B4455;\n",
              "      fill: #D2E3FC;\n",
              "    }\n",
              "\n",
              "    [theme=dark] .colab-df-convert:hover {\n",
              "      background-color: #434B5C;\n",
              "      box-shadow: 0px 1px 3px 1px rgba(0, 0, 0, 0.15);\n",
              "      filter: drop-shadow(0px 1px 2px rgba(0, 0, 0, 0.3));\n",
              "      fill: #FFFFFF;\n",
              "    }\n",
              "  </style>\n",
              "\n",
              "    <script>\n",
              "      const buttonEl =\n",
              "        document.querySelector('#df-f740d673-14b2-46aa-b80a-bce73997e11c button.colab-df-convert');\n",
              "      buttonEl.style.display =\n",
              "        google.colab.kernel.accessAllowed ? 'block' : 'none';\n",
              "\n",
              "      async function convertToInteractive(key) {\n",
              "        const element = document.querySelector('#df-f740d673-14b2-46aa-b80a-bce73997e11c');\n",
              "        const dataTable =\n",
              "          await google.colab.kernel.invokeFunction('convertToInteractive',\n",
              "                                                    [key], {});\n",
              "        if (!dataTable) return;\n",
              "\n",
              "        const docLinkHtml = 'Like what you see? Visit the ' +\n",
              "          '<a target=\"_blank\" href=https://colab.research.google.com/notebooks/data_table.ipynb>data table notebook</a>'\n",
              "          + ' to learn more about interactive tables.';\n",
              "        element.innerHTML = '';\n",
              "        dataTable['output_type'] = 'display_data';\n",
              "        await google.colab.output.renderOutput(dataTable, element);\n",
              "        const docLink = document.createElement('div');\n",
              "        docLink.innerHTML = docLinkHtml;\n",
              "        element.appendChild(docLink);\n",
              "      }\n",
              "    </script>\n",
              "  </div>\n",
              "\n",
              "\n",
              "<div id=\"df-20515afa-91d4-4b06-a82a-2140727fd17f\">\n",
              "  <button class=\"colab-df-quickchart\" onclick=\"quickchart('df-20515afa-91d4-4b06-a82a-2140727fd17f')\"\n",
              "            title=\"Suggest charts.\"\n",
              "            style=\"display:none;\">\n",
              "\n",
              "<svg xmlns=\"http://www.w3.org/2000/svg\" height=\"24px\"viewBox=\"0 0 24 24\"\n",
              "     width=\"24px\">\n",
              "    <g>\n",
              "        <path d=\"M19 3H5c-1.1 0-2 .9-2 2v14c0 1.1.9 2 2 2h14c1.1 0 2-.9 2-2V5c0-1.1-.9-2-2-2zM9 17H7v-7h2v7zm4 0h-2V7h2v10zm4 0h-2v-4h2v4z\"/>\n",
              "    </g>\n",
              "</svg>\n",
              "  </button>\n",
              "\n",
              "<style>\n",
              "  .colab-df-quickchart {\n",
              "      --bg-color: #E8F0FE;\n",
              "      --fill-color: #1967D2;\n",
              "      --hover-bg-color: #E2EBFA;\n",
              "      --hover-fill-color: #174EA6;\n",
              "      --disabled-fill-color: #AAA;\n",
              "      --disabled-bg-color: #DDD;\n",
              "  }\n",
              "\n",
              "  [theme=dark] .colab-df-quickchart {\n",
              "      --bg-color: #3B4455;\n",
              "      --fill-color: #D2E3FC;\n",
              "      --hover-bg-color: #434B5C;\n",
              "      --hover-fill-color: #FFFFFF;\n",
              "      --disabled-bg-color: #3B4455;\n",
              "      --disabled-fill-color: #666;\n",
              "  }\n",
              "\n",
              "  .colab-df-quickchart {\n",
              "    background-color: var(--bg-color);\n",
              "    border: none;\n",
              "    border-radius: 50%;\n",
              "    cursor: pointer;\n",
              "    display: none;\n",
              "    fill: var(--fill-color);\n",
              "    height: 32px;\n",
              "    padding: 0;\n",
              "    width: 32px;\n",
              "  }\n",
              "\n",
              "  .colab-df-quickchart:hover {\n",
              "    background-color: var(--hover-bg-color);\n",
              "    box-shadow: 0 1px 2px rgba(60, 64, 67, 0.3), 0 1px 3px 1px rgba(60, 64, 67, 0.15);\n",
              "    fill: var(--button-hover-fill-color);\n",
              "  }\n",
              "\n",
              "  .colab-df-quickchart-complete:disabled,\n",
              "  .colab-df-quickchart-complete:disabled:hover {\n",
              "    background-color: var(--disabled-bg-color);\n",
              "    fill: var(--disabled-fill-color);\n",
              "    box-shadow: none;\n",
              "  }\n",
              "\n",
              "  .colab-df-spinner {\n",
              "    border: 2px solid var(--fill-color);\n",
              "    border-color: transparent;\n",
              "    border-bottom-color: var(--fill-color);\n",
              "    animation:\n",
              "      spin 1s steps(1) infinite;\n",
              "  }\n",
              "\n",
              "  @keyframes spin {\n",
              "    0% {\n",
              "      border-color: transparent;\n",
              "      border-bottom-color: var(--fill-color);\n",
              "      border-left-color: var(--fill-color);\n",
              "    }\n",
              "    20% {\n",
              "      border-color: transparent;\n",
              "      border-left-color: var(--fill-color);\n",
              "      border-top-color: var(--fill-color);\n",
              "    }\n",
              "    30% {\n",
              "      border-color: transparent;\n",
              "      border-left-color: var(--fill-color);\n",
              "      border-top-color: var(--fill-color);\n",
              "      border-right-color: var(--fill-color);\n",
              "    }\n",
              "    40% {\n",
              "      border-color: transparent;\n",
              "      border-right-color: var(--fill-color);\n",
              "      border-top-color: var(--fill-color);\n",
              "    }\n",
              "    60% {\n",
              "      border-color: transparent;\n",
              "      border-right-color: var(--fill-color);\n",
              "    }\n",
              "    80% {\n",
              "      border-color: transparent;\n",
              "      border-right-color: var(--fill-color);\n",
              "      border-bottom-color: var(--fill-color);\n",
              "    }\n",
              "    90% {\n",
              "      border-color: transparent;\n",
              "      border-bottom-color: var(--fill-color);\n",
              "    }\n",
              "  }\n",
              "</style>\n",
              "\n",
              "  <script>\n",
              "    async function quickchart(key) {\n",
              "      const quickchartButtonEl =\n",
              "        document.querySelector('#' + key + ' button');\n",
              "      quickchartButtonEl.disabled = true;  // To prevent multiple clicks.\n",
              "      quickchartButtonEl.classList.add('colab-df-spinner');\n",
              "      try {\n",
              "        const charts = await google.colab.kernel.invokeFunction(\n",
              "            'suggestCharts', [key], {});\n",
              "      } catch (error) {\n",
              "        console.error('Error during call to suggestCharts:', error);\n",
              "      }\n",
              "      quickchartButtonEl.classList.remove('colab-df-spinner');\n",
              "      quickchartButtonEl.classList.add('colab-df-quickchart-complete');\n",
              "    }\n",
              "    (() => {\n",
              "      let quickchartButtonEl =\n",
              "        document.querySelector('#df-20515afa-91d4-4b06-a82a-2140727fd17f button');\n",
              "      quickchartButtonEl.style.display =\n",
              "        google.colab.kernel.accessAllowed ? 'block' : 'none';\n",
              "    })();\n",
              "  </script>\n",
              "</div>\n",
              "    </div>\n",
              "  </div>\n"
            ]
          },
          "metadata": {},
          "execution_count": 8
        }
      ],
      "source": [
        "df.head()"
      ]
    },
    {
      "cell_type": "code",
      "source": [
        "df.columns"
      ],
      "metadata": {
        "colab": {
          "base_uri": "https://localhost:8080/"
        },
        "id": "FxG4nC6xhgdw",
        "outputId": "5bf2eafa-b2d2-4831-d722-89fd065b2788"
      },
      "execution_count": 9,
      "outputs": [
        {
          "output_type": "execute_result",
          "data": {
            "text/plain": [
              "Index(['S No', 'Tweet', 'Date of Tweet', 'Topic', 'Parent Tweet', 'Language',\n",
              "       'Quality', 'Stance', 'Argument', 'Comment', 'Responding to Tone',\n",
              "       'Discussing Writer Characteristics', 'Remark', 'Relevancy'],\n",
              "      dtype='object')"
            ]
          },
          "metadata": {},
          "execution_count": 9
        }
      ]
    },
    {
      "cell_type": "markdown",
      "metadata": {
        "id": "ZEK4d9V96NZq"
      },
      "source": [
        "## **Load Text and Labels**"
      ]
    },
    {
      "cell_type": "code",
      "execution_count": 181,
      "metadata": {
        "id": "Gofecm7D6NZq"
      },
      "outputs": [],
      "source": [
        "text = df[\"Tweet\"].to_numpy()\n",
        "pt = df[\"Parent Tweet\"].to_numpy()\n",
        "topic = df[\"Topic\"].to_numpy()\n",
        "\n",
        "Stance_label = df[\"Stance\"].to_numpy()\n",
        "Quality_label = df[\"Quality\"].to_numpy()\n",
        "Argument_label = df[\"Argument\"].to_numpy()\n",
        "Comment_label = df[\"Comment\"].to_numpy()\n",
        "Writer_label = df[\"Discussing Writer Characteristics\"].to_numpy()\n",
        "Tone_label = df[\"Responding to Tone\"].to_numpy()\n",
        "Remark_label = df[\"Remark\"].to_numpy()\n",
        "Relevancy_label = df[\"Relevancy\"].to_numpy()"
      ]
    },
    {
      "cell_type": "markdown",
      "metadata": {
        "id": "gVzFr8fX6NZr"
      },
      "source": [
        "## **Label Encoding**"
      ]
    },
    {
      "cell_type": "code",
      "execution_count": 182,
      "metadata": {
        "id": "Jo0VEEPZ6NZr"
      },
      "outputs": [],
      "source": [
        "encode_dict_quality = {\n",
        "    \"High\": np.array([1, 0, 0]),\n",
        "    \"Med\": np.array([0, 1, 0]),\n",
        "    \"Low\": np.array([0, 0, 1]),\n",
        "}\n",
        "\n",
        "encode_dict_stance = {\n",
        "    \"For\": np.array([1, 0, 0]),\n",
        "    \"Against\": np.array([0, 1, 0]),\n",
        "    \"Undetermined\": np.array([0, 0, 1]),\n",
        "}\n",
        "\n",
        "encode_dict = {\n",
        "    1: np.array([1, 0]),\n",
        "    0: np.array([0, 1]),\n",
        "}\n",
        "\n",
        "encode_dict_relevancy = {\n",
        "    \"Relevant\": np.array([1, 0]),\n",
        "    \"Irrelevant\": np.array([0, 1]),\n",
        "}"
      ]
    },
    {
      "cell_type": "code",
      "execution_count": 183,
      "metadata": {
        "id": "hpIEfgxz6NZr"
      },
      "outputs": [],
      "source": [
        "Quality_label = np.array([encode_dict_quality[label] for label in Quality_label])\n",
        "Argument_label = np.array([encode_dict[label] for label in Argument_label])\n",
        "Comment_label = np.array([encode_dict[label] for label in Comment_label])\n",
        "Writer_label = np.array([encode_dict[label] for label in Writer_label])\n",
        "Tone_label = np.array([encode_dict[label] for label in Tone_label])\n",
        "Remark_label = np.array([encode_dict[label] for label in Remark_label])\n",
        "Relevancy_label = np.array([encode_dict_relevancy[label] for label in Relevancy_label])\n",
        "Stance_label = np.array([encode_dict_stance[label] for label in Stance_label])"
      ]
    },
    {
      "cell_type": "markdown",
      "metadata": {
        "id": "JDCAr4hO6NZs"
      },
      "source": [
        "## **Pre-Config for mBERT**"
      ]
    },
    {
      "cell_type": "code",
      "execution_count": 191,
      "metadata": {
        "id": "p086mt4R6NZs"
      },
      "outputs": [],
      "source": [
        "device = 'cuda' if torch.cuda.is_available() else 'cpu'\n",
        "\n",
        "MAX_LEN = np.max([(len(x)+len(y)+1) for x,y in zip(text,pt)])\n",
        "MAX_LEN = np.min([MAX_LEN, 510])\n",
        "\n",
        "BATCH_SIZE = 32\n",
        "LEARNING_RATE = 1e-1"
      ]
    },
    {
      "cell_type": "code",
      "execution_count": 27,
      "metadata": {
        "id": "l6ua16_v6NZs"
      },
      "outputs": [],
      "source": [
        "tokenizer = AutoTokenizer.from_pretrained('bert-base-multilingual-cased')"
      ]
    },
    {
      "cell_type": "markdown",
      "metadata": {
        "id": "JBoTsyKV6NZs"
      },
      "source": [
        "## **Build Dataset for mBERT**"
      ]
    },
    {
      "cell_type": "code",
      "execution_count": 192,
      "metadata": {
        "id": "dcJYVfHf6NZs"
      },
      "outputs": [],
      "source": [
        "class ModelDataset(Dataset):\n",
        "    def __init__(self, X, PT, topic, y, tokenizer, max_len):\n",
        "        self.max_len = max_len\n",
        "        self.text = X\n",
        "        self.topic = topic\n",
        "        self.pt = PT\n",
        "        self.tokenizer = tokenizer\n",
        "        self.targets = y\n",
        "\n",
        "    def __len__(self):\n",
        "        return len(self.targets)\n",
        "\n",
        "    def __getitem__(self, index):\n",
        "        text = self.text[index]\n",
        "        pt = self.pt[index]\n",
        "        topic = self.topic[index]\n",
        "\n",
        "        concat_text = f\"{topic} {pt}\"\n",
        "\n",
        "        inputs = self.tokenizer(\n",
        "            concat_text,text,\n",
        "            truncation=True,\n",
        "            add_special_tokens=True,\n",
        "            max_length=self.max_len,\n",
        "            padding='max_length',\n",
        "            return_token_type_ids=True)\n",
        "\n",
        "        ids = inputs['input_ids']\n",
        "        mask = inputs['attention_mask']\n",
        "        token_type_ids = inputs['token_type_ids']\n",
        "\n",
        "        return {\n",
        "            'ids': torch.tensor(ids, dtype=torch.long).to(device),\n",
        "            'mask': torch.tensor(mask, dtype=torch.long).to(device),\n",
        "            'token_type_ids': torch.tensor(token_type_ids, dtype=torch.long).to(device),\n",
        "            'targets': torch.tensor(self.targets[index], dtype=torch.float).to(device),\n",
        "            'text_length': len(word_tokenize(text)),\n",
        "            'pt_length': len(word_tokenize(pt)),\n",
        "            'topic_length': len(word_tokenize(topic)),\n",
        "            'topic': pt\n",
        "        }"
      ]
    },
    {
      "cell_type": "markdown",
      "metadata": {
        "id": "2OW5vWPI6NZt"
      },
      "source": [
        "## **Build Model**"
      ]
    },
    {
      "cell_type": "code",
      "execution_count": 193,
      "metadata": {
        "id": "Dbgq9PTs6NZt"
      },
      "outputs": [],
      "source": [
        "class CustomModel(nn.Module):\n",
        "\n",
        "    def __init__(self):\n",
        "        super(CustomModel, self).__init__()\n",
        "        self.bert = AutoModel.from_pretrained('bert-base-multilingual-cased')\n",
        "\n",
        "        for param in self.bert.parameters():\n",
        "            param.requires_grad = False\n",
        "\n",
        "        self.out_layer = nn.Linear(768, 3)\n",
        "\n",
        "    def forward(self, ids, mask, token_type_ids):\n",
        "        _, features = self.bert(\n",
        "            ids, token_type_ids=token_type_ids,\n",
        "            attention_mask=mask, return_dict=False\n",
        "        )\n",
        "\n",
        "        output = self.out_layer(features)\n",
        "\n",
        "        return output"
      ]
    },
    {
      "cell_type": "markdown",
      "metadata": {
        "id": "qMoM23_y6NZt"
      },
      "source": [
        "## **Train Model**"
      ]
    },
    {
      "cell_type": "code",
      "execution_count": 187,
      "metadata": {
        "id": "2ysbIOeE6NZt"
      },
      "outputs": [],
      "source": [
        "def train(epoch, model, train_loader, loss_fn, optimizer):\n",
        "\n",
        "    model.train()\n",
        "\n",
        "    for batch in tqdm(train_loader):\n",
        "\n",
        "        optimizer.zero_grad()\n",
        "\n",
        "        ids = batch['ids'].to(device, dtype = torch.long)\n",
        "        mask = batch['mask'].to(device, dtype = torch.long)\n",
        "        token_type_ids = batch['token_type_ids'].to(device, dtype = torch.long)\n",
        "        targets = batch['targets'].to(device, dtype = torch.float)\n",
        "\n",
        "        outputs = model(ids, mask, token_type_ids)\n",
        "\n",
        "        loss = loss_fn(outputs, targets)\n",
        "\n",
        "        loss.backward()\n",
        "        optimizer.step()\n",
        "\n",
        "\n",
        "    print(f'Epoch: {epoch + 1}, Loss:  {loss.item()}')"
      ]
    },
    {
      "cell_type": "code",
      "execution_count": 188,
      "metadata": {
        "id": "f200egXX6NZu"
      },
      "outputs": [],
      "source": [
        "def validation(data_loader, model):\n",
        "\n",
        "    model.eval()\n",
        "    targets = []\n",
        "    outputs = []\n",
        "\n",
        "    with torch.no_grad():\n",
        "\n",
        "        for batch in data_loader:\n",
        "\n",
        "            ids = batch['ids'].to(device, dtype = torch.long)\n",
        "            mask = batch['mask'].to(device, dtype = torch.long)\n",
        "            token_type_ids = batch['token_type_ids'].to(device, dtype = torch.long)\n",
        "            batch_targets = batch['targets'].to(device, dtype = torch.float)\n",
        "\n",
        "            batch_outputs = model(ids, mask, token_type_ids)\n",
        "\n",
        "            targets.extend(batch_targets.cpu().numpy().tolist())\n",
        "            outputs.extend(batch_outputs.cpu().numpy().tolist())\n",
        "\n",
        "    return outputs, targets"
      ]
    },
    {
      "cell_type": "markdown",
      "source": [
        "# Model initialization"
      ],
      "metadata": {
        "id": "JzBXT1kZfErQ"
      }
    },
    {
      "cell_type": "code",
      "source": [
        "kf = KFold(n_splits=5)\n",
        "\n",
        "model_targets = []\n",
        "model_labels = []\n",
        "\n",
        "model = CustomModel().to(device)\n",
        "\n",
        "loss_fn = nn.BCEWithLogitsLoss()\n",
        "optimizer = torch.optim.AdamW(params=model.parameters(), lr=LEARNING_RATE)"
      ],
      "metadata": {
        "id": "bWTXrsAvfEIL"
      },
      "execution_count": 189,
      "outputs": []
    },
    {
      "cell_type": "code",
      "execution_count": null,
      "metadata": {
        "colab": {
          "base_uri": "https://localhost:8080/"
        },
        "id": "S8t5ysej6NZu",
        "outputId": "4ef34b53-210a-4387-a587-7d941a75395a"
      },
      "outputs": [
        {
          "output_type": "stream",
          "name": "stderr",
          "text": [
            " 12%|█▏        | 4/34 [00:06<00:39,  1.33s/it]"
          ]
        }
      ],
      "source": [
        "for train_index, test_index in kf.split(text):\n",
        "\n",
        "    text_train, text_test = text[train_index], text[test_index]\n",
        "    pt_train, pt_test = pt[train_index], pt[test_index]\n",
        "    topic_train, topic_test = topic[train_index], topic[test_index]\n",
        "    labels_train, labels_test = Stance_label[train_index], Stance_label[test_index]\n",
        "\n",
        "    train_data = ModelDataset(text_train, pt_train, topic_train, labels_train, tokenizer, MAX_LEN)\n",
        "    test_data = ModelDataset(text_test, pt_test, topic_test, labels_test, tokenizer, MAX_LEN)\n",
        "\n",
        "    train_loader = DataLoader(train_data, batch_size=BATCH_SIZE, shuffle=True)\n",
        "    test_loader = DataLoader(test_data, batch_size=BATCH_SIZE)\n",
        "\n",
        "    best_score = -np.inf\n",
        "    best_weights = None\n",
        "\n",
        "    EPOCHS = 10\n",
        "\n",
        "    torch.save(model.state_dict(),\"/content/gdrive/MyDrive/VIT/Tamil Argumentation/twitter_model_stance.pth\")\n",
        "\n",
        "    for epoch in range(EPOCHS):\n",
        "\n",
        "        train(epoch, model, train_loader, loss_fn, optimizer)\n",
        "        outputs, targets = validation(test_loader, model)\n",
        "\n",
        "        print(outputs)\n",
        "        print(\" \")\n",
        "        print(targets)\n",
        "\n",
        "        targets = [np.argmax(x) for x in targets]\n",
        "        outputs = [np.argmax(x) for x in outputs]\n",
        "\n",
        "        score = metrics.f1_score(targets, outputs, average='weighted')\n",
        "\n",
        "        if score > best_score:\n",
        "            best_score = score\n",
        "            best_weights = deepcopy(model.state_dict())\n",
        "\n",
        "    model.load_state_dict(best_weights)\n",
        "    torch.save(model.state_dict(),\"/content/gdrive/MyDrive/VIT/Tamil Argumentation/twitter_model_stance.pth\")\n",
        "\n",
        "    outputs, targets = validation(test_loader, model)\n",
        "\n",
        "    targets = [np.argmax(x) for x in targets]\n",
        "    outputs = [np.argmax(x) for x in outputs]\n",
        "\n",
        "    model_targets.extend(targets)\n",
        "    model_labels.extend(outputs)"
      ]
    },
    {
      "cell_type": "code",
      "execution_count": null,
      "metadata": {
        "colab": {
          "base_uri": "https://localhost:8080/"
        },
        "id": "HGDrAb3g6NZu",
        "outputId": "789b51b4-4eb1-4d42-a740-5c45b96173cb"
      },
      "outputs": [
        {
          "name": "stdout",
          "output_type": "stream",
          "text": [
            "Accuracy Score = 0.6718518518518518\n",
            "F1 Score (Weighted) = 0.660670534429505\n",
            "              precision    recall  f1-score   support\n",
            "\n",
            "           0       0.57      0.37      0.44       197\n",
            "           1       0.73      0.81      0.77       849\n",
            "           2       0.53      0.48      0.50       304\n",
            "\n",
            "    accuracy                           0.67      1350\n",
            "   macro avg       0.61      0.55      0.57      1350\n",
            "weighted avg       0.66      0.67      0.66      1350\n",
            "\n"
          ]
        }
      ],
      "source": [
        "accuracy = metrics.accuracy_score(model_targets, model_labels)\n",
        "f1_score_w_avg = metrics.f1_score(model_targets, model_labels, average='weighted')\n",
        "\n",
        "print(f\"Accuracy Score = {accuracy}\")\n",
        "print(f\"F1 Score (Weighted) = {f1_score_w_avg}\")\n",
        "\n",
        "print(metrics.classification_report(model_targets, model_labels))"
      ]
    },
    {
      "cell_type": "markdown",
      "source": [
        "# Tokenization testing"
      ],
      "metadata": {
        "id": "gEz2_PX9-RSA"
      }
    },
    {
      "cell_type": "code",
      "source": [
        "print(tokenizer.decode([ 16938,\n",
        "          112,   188, 45476, 10114, 23763, 10531,   119,   119,   119, 10678,\n",
        "        10114, 94992, 10219, 10111, 23763, 10105, 11561, 40414,   119, 14453,\n",
        "        44096,   189, 11337, 10678, 10114, 21852, 10479, 10301, 22489, 11426,\n",
        "          102]))"
      ],
      "metadata": {
        "colab": {
          "base_uri": "https://localhost:8080/"
        },
        "id": "VpLxMNp26uSn",
        "outputId": "8b8b0a69-9c73-4d17-f20e-98fc70772264"
      },
      "execution_count": 174,
      "outputs": [
        {
          "output_type": "stream",
          "name": "stdout",
          "text": [
            "don't dare to say this... come to merina and say the same thing. Surely u will come to know who are Tamil people [SEP]\n"
          ]
        }
      ]
    },
    {
      "cell_type": "code",
      "source": [
        "print(len(train_data[0][\"token_type_ids\"]))\n",
        "print(len(train_data[0][\"targets\"]))\n",
        "print(len(train_data[0][\"ids\"]))\n",
        "print(len(train_data[0][\"mask\"]))\n",
        "\n",
        "print(train_data[0][\"text_length\"])\n",
        "print(train_data[0][\"pt_length\"])\n",
        "print(train_data[0][\"topic_length\"])\n",
        "\n",
        "print(train_data[0][\"token_type_ids\"])\n",
        "print(train_data[0][\"ids\"])\n"
      ],
      "metadata": {
        "colab": {
          "base_uri": "https://localhost:8080/"
        },
        "id": "y2MbWbS9kbxl",
        "outputId": "730ca486-87c3-4817-aa39-e467f0846e5b"
      },
      "execution_count": 172,
      "outputs": [
        {
          "output_type": "stream",
          "name": "stdout",
          "text": [
            "626\n",
            "2\n",
            "626\n",
            "626\n",
            "26\n",
            "31\n",
            "1\n",
            "tensor([0, 0, 0, 0, 0, 0, 0, 0, 0, 0, 0, 0, 0, 0, 0, 0, 0, 0, 0, 0, 0, 0, 0, 0,\n",
            "        0, 0, 0, 0, 0, 0, 0, 0, 0, 0, 0, 0, 0, 0, 0, 0, 0, 0, 0, 0, 0, 0, 0, 0,\n",
            "        0, 1, 1, 1, 1, 1, 1, 1, 1, 1, 1, 1, 1, 1, 1, 1, 1, 1, 1, 1, 1, 1, 1, 1,\n",
            "        1, 1, 1, 1, 1, 1, 1, 1, 1, 0, 0, 0, 0, 0, 0, 0, 0, 0, 0, 0, 0, 0, 0, 0,\n",
            "        0, 0, 0, 0, 0, 0, 0, 0, 0, 0, 0, 0, 0, 0, 0, 0, 0, 0, 0, 0, 0, 0, 0, 0,\n",
            "        0, 0, 0, 0, 0, 0, 0, 0, 0, 0, 0, 0, 0, 0, 0, 0, 0, 0, 0, 0, 0, 0, 0, 0,\n",
            "        0, 0, 0, 0, 0, 0, 0, 0, 0, 0, 0, 0, 0, 0, 0, 0, 0, 0, 0, 0, 0, 0, 0, 0,\n",
            "        0, 0, 0, 0, 0, 0, 0, 0, 0, 0, 0, 0, 0, 0, 0, 0, 0, 0, 0, 0, 0, 0, 0, 0,\n",
            "        0, 0, 0, 0, 0, 0, 0, 0, 0, 0, 0, 0, 0, 0, 0, 0, 0, 0, 0, 0, 0, 0, 0, 0,\n",
            "        0, 0, 0, 0, 0, 0, 0, 0, 0, 0, 0, 0, 0, 0, 0, 0, 0, 0, 0, 0, 0, 0, 0, 0,\n",
            "        0, 0, 0, 0, 0, 0, 0, 0, 0, 0, 0, 0, 0, 0, 0, 0, 0, 0, 0, 0, 0, 0, 0, 0,\n",
            "        0, 0, 0, 0, 0, 0, 0, 0, 0, 0, 0, 0, 0, 0, 0, 0, 0, 0, 0, 0, 0, 0, 0, 0,\n",
            "        0, 0, 0, 0, 0, 0, 0, 0, 0, 0, 0, 0, 0, 0, 0, 0, 0, 0, 0, 0, 0, 0, 0, 0,\n",
            "        0, 0, 0, 0, 0, 0, 0, 0, 0, 0, 0, 0, 0, 0, 0, 0, 0, 0, 0, 0, 0, 0, 0, 0,\n",
            "        0, 0, 0, 0, 0, 0, 0, 0, 0, 0, 0, 0, 0, 0, 0, 0, 0, 0, 0, 0, 0, 0, 0, 0,\n",
            "        0, 0, 0, 0, 0, 0, 0, 0, 0, 0, 0, 0, 0, 0, 0, 0, 0, 0, 0, 0, 0, 0, 0, 0,\n",
            "        0, 0, 0, 0, 0, 0, 0, 0, 0, 0, 0, 0, 0, 0, 0, 0, 0, 0, 0, 0, 0, 0, 0, 0,\n",
            "        0, 0, 0, 0, 0, 0, 0, 0, 0, 0, 0, 0, 0, 0, 0, 0, 0, 0, 0, 0, 0, 0, 0, 0,\n",
            "        0, 0, 0, 0, 0, 0, 0, 0, 0, 0, 0, 0, 0, 0, 0, 0, 0, 0, 0, 0, 0, 0, 0, 0,\n",
            "        0, 0, 0, 0, 0, 0, 0, 0, 0, 0, 0, 0, 0, 0, 0, 0, 0, 0, 0, 0, 0, 0, 0, 0,\n",
            "        0, 0, 0, 0, 0, 0, 0, 0, 0, 0, 0, 0, 0, 0, 0, 0, 0, 0, 0, 0, 0, 0, 0, 0,\n",
            "        0, 0, 0, 0, 0, 0, 0, 0, 0, 0, 0, 0, 0, 0, 0, 0, 0, 0, 0, 0, 0, 0, 0, 0,\n",
            "        0, 0, 0, 0, 0, 0, 0, 0, 0, 0, 0, 0, 0, 0, 0, 0, 0, 0, 0, 0, 0, 0, 0, 0,\n",
            "        0, 0, 0, 0, 0, 0, 0, 0, 0, 0, 0, 0, 0, 0, 0, 0, 0, 0, 0, 0, 0, 0, 0, 0,\n",
            "        0, 0, 0, 0, 0, 0, 0, 0, 0, 0, 0, 0, 0, 0, 0, 0, 0, 0, 0, 0, 0, 0, 0, 0,\n",
            "        0, 0, 0, 0, 0, 0, 0, 0, 0, 0, 0, 0, 0, 0, 0, 0, 0, 0, 0, 0, 0, 0, 0, 0,\n",
            "        0, 0], device='cuda:0')\n",
            "tensor([  101, 28248, 35732, 22044, 10159, 48502, 10107, 10108,   146, 16994,\n",
            "        10806,   117, 10231, 87150, 22525, 22489, 11309, 10161, 21528, 10114,\n",
            "        63376, 11915, 10135,   108, 10201, 35732, 22044,   123, 31081, 10169,\n",
            "        22528, 10114, 52824, 10123, 11345,   119, 12882, 14796, 10944,   189,\n",
            "        11419, 51511, 51354, 10188, 11049, 11309, 10161,   136,   102, 16938,\n",
            "          112,   188, 45476, 10114, 23763, 10531,   119,   119,   119, 10678,\n",
            "        10114, 94992, 10219, 10111, 23763, 10105, 11561, 40414,   119, 14453,\n",
            "        44096,   189, 11337, 10678, 10114, 21852, 10479, 10301, 22489, 11426,\n",
            "          102,     0,     0,     0,     0,     0,     0,     0,     0,     0,\n",
            "            0,     0,     0,     0,     0,     0,     0,     0,     0,     0,\n",
            "            0,     0,     0,     0,     0,     0,     0,     0,     0,     0,\n",
            "            0,     0,     0,     0,     0,     0,     0,     0,     0,     0,\n",
            "            0,     0,     0,     0,     0,     0,     0,     0,     0,     0,\n",
            "            0,     0,     0,     0,     0,     0,     0,     0,     0,     0,\n",
            "            0,     0,     0,     0,     0,     0,     0,     0,     0,     0,\n",
            "            0,     0,     0,     0,     0,     0,     0,     0,     0,     0,\n",
            "            0,     0,     0,     0,     0,     0,     0,     0,     0,     0,\n",
            "            0,     0,     0,     0,     0,     0,     0,     0,     0,     0,\n",
            "            0,     0,     0,     0,     0,     0,     0,     0,     0,     0,\n",
            "            0,     0,     0,     0,     0,     0,     0,     0,     0,     0,\n",
            "            0,     0,     0,     0,     0,     0,     0,     0,     0,     0,\n",
            "            0,     0,     0,     0,     0,     0,     0,     0,     0,     0,\n",
            "            0,     0,     0,     0,     0,     0,     0,     0,     0,     0,\n",
            "            0,     0,     0,     0,     0,     0,     0,     0,     0,     0,\n",
            "            0,     0,     0,     0,     0,     0,     0,     0,     0,     0,\n",
            "            0,     0,     0,     0,     0,     0,     0,     0,     0,     0,\n",
            "            0,     0,     0,     0,     0,     0,     0,     0,     0,     0,\n",
            "            0,     0,     0,     0,     0,     0,     0,     0,     0,     0,\n",
            "            0,     0,     0,     0,     0,     0,     0,     0,     0,     0,\n",
            "            0,     0,     0,     0,     0,     0,     0,     0,     0,     0,\n",
            "            0,     0,     0,     0,     0,     0,     0,     0,     0,     0,\n",
            "            0,     0,     0,     0,     0,     0,     0,     0,     0,     0,\n",
            "            0,     0,     0,     0,     0,     0,     0,     0,     0,     0,\n",
            "            0,     0,     0,     0,     0,     0,     0,     0,     0,     0,\n",
            "            0,     0,     0,     0,     0,     0,     0,     0,     0,     0,\n",
            "            0,     0,     0,     0,     0,     0,     0,     0,     0,     0,\n",
            "            0,     0,     0,     0,     0,     0,     0,     0,     0,     0,\n",
            "            0,     0,     0,     0,     0,     0,     0,     0,     0,     0,\n",
            "            0,     0,     0,     0,     0,     0,     0,     0,     0,     0,\n",
            "            0,     0,     0,     0,     0,     0,     0,     0,     0,     0,\n",
            "            0,     0,     0,     0,     0,     0,     0,     0,     0,     0,\n",
            "            0,     0,     0,     0,     0,     0,     0,     0,     0,     0,\n",
            "            0,     0,     0,     0,     0,     0,     0,     0,     0,     0,\n",
            "            0,     0,     0,     0,     0,     0,     0,     0,     0,     0,\n",
            "            0,     0,     0,     0,     0,     0,     0,     0,     0,     0,\n",
            "            0,     0,     0,     0,     0,     0,     0,     0,     0,     0,\n",
            "            0,     0,     0,     0,     0,     0,     0,     0,     0,     0,\n",
            "            0,     0,     0,     0,     0,     0,     0,     0,     0,     0,\n",
            "            0,     0,     0,     0,     0,     0,     0,     0,     0,     0,\n",
            "            0,     0,     0,     0,     0,     0,     0,     0,     0,     0,\n",
            "            0,     0,     0,     0,     0,     0,     0,     0,     0,     0,\n",
            "            0,     0,     0,     0,     0,     0,     0,     0,     0,     0,\n",
            "            0,     0,     0,     0,     0,     0,     0,     0,     0,     0,\n",
            "            0,     0,     0,     0,     0,     0,     0,     0,     0,     0,\n",
            "            0,     0,     0,     0,     0,     0,     0,     0,     0,     0,\n",
            "            0,     0,     0,     0,     0,     0,     0,     0,     0,     0,\n",
            "            0,     0,     0,     0,     0,     0,     0,     0,     0,     0,\n",
            "            0,     0,     0,     0,     0,     0,     0,     0,     0,     0,\n",
            "            0,     0,     0,     0,     0,     0,     0,     0,     0,     0,\n",
            "            0,     0,     0,     0,     0,     0,     0,     0,     0,     0,\n",
            "            0,     0,     0,     0,     0,     0,     0,     0,     0,     0,\n",
            "            0,     0,     0,     0,     0,     0,     0,     0,     0,     0,\n",
            "            0,     0,     0,     0,     0,     0], device='cuda:0')\n"
          ]
        }
      ]
    }
  ],
  "metadata": {
    "accelerator": "GPU",
    "colab": {
      "provenance": []
    },
    "kernelspec": {
      "display_name": "Python 3",
      "name": "python3"
    },
    "language_info": {
      "codemirror_mode": {
        "name": "ipython",
        "version": 3
      },
      "file_extension": ".py",
      "mimetype": "text/x-python",
      "name": "python",
      "nbconvert_exporter": "python",
      "pygments_lexer": "ipython3",
      "version": "3.11.3"
    }
  },
  "nbformat": 4,
  "nbformat_minor": 0
}